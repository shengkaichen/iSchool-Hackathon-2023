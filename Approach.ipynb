{
 "cells": [
  {
   "cell_type": "markdown",
   "metadata": {
    "collapsed": true,
    "pycharm": {
     "name": "#%% md\n"
    }
   },
   "source": [
    "# Problem Statement\n",
    "\n",
    "1. Who is not eligible for benefit? (outlier)\n",
    "2. How much we should pay for eligible families?"
   ]
  },
  {
   "cell_type": "code",
   "execution_count": 1,
   "outputs": [],
   "source": [
    "import pandas as pd\n",
    "import numpy as np\n",
    "import glob\n",
    "import seaborn as sns\n",
    "import matplotlib.pyplot as plt\n",
    "from sklearn import preprocessing\n",
    "from sklearn.preprocessing import StandardScaler\n",
    "from sklearn.preprocessing import MinMaxScaler\n",
    "from sklearn.metrics import mean_absolute_error\n",
    "from sklearn.metrics import mean_squared_error\n",
    "from statsmodels.graphics.tsaplots import plot_acf, plot_pacf\n",
    "from statsmodels.tsa.stattools import adfuller\n",
    "import warnings\n",
    "warnings.simplefilter(action=\"ignore\", category=FutureWarning)"
   ],
   "metadata": {
    "collapsed": false,
    "pycharm": {
     "name": "#%%\n"
    }
   }
  },
  {
   "cell_type": "markdown",
   "source": [
    "# Dataset Description\n",
    "-\n"
   ],
   "metadata": {
    "collapsed": false,
    "pycharm": {
     "name": "#%% md\n"
    }
   }
  },
  {
   "cell_type": "markdown",
   "source": [
    "# Load The Dataset"
   ],
   "metadata": {
    "collapsed": false,
    "pycharm": {
     "name": "#%% md\n"
    }
   }
  },
  {
   "cell_type": "code",
   "execution_count": 16,
   "outputs": [],
   "source": [
    "def read_files():\n",
    "    folder = glob.glob(\"./data/*.csv\")\n",
    "    dfs = [pd.read_csv(f, sep=\",\", header=0) for f in folder]\n",
    "\n",
    "    drop = {'drop_application': ['START_TIME', 'END_TIME', 'BIRTH_DATE', 'FIRST_NAME', 'LAST_NAME', 'EMAIL', 'HOME_AREA_CODE', 'PHONE_NUMBER', 'EMPLOYMENT_STATUS'],\n",
    "            'drop_dependent': ['P8N', 'PARTNER_P8N']}\n",
    "    dfs[0] = dfs[0].drop(drop['drop_application'], axis=1)\n",
    "    dfs[2] = dfs[2].drop(drop['drop_dependent'], axis=1)\n",
    "\n",
    "    # don't need to merge server-log-data and spouse-common-law-data\n",
    "    df = dfs[0].merge(dfs[1], on='APP_ID').merge(dfs[2], on='APP_ID').merge(dfs[3], on='APP_ID')\n",
    "\n",
    "    return df"
   ],
   "metadata": {
    "collapsed": false,
    "pycharm": {
     "name": "#%%\n"
    }
   }
  },
  {
   "cell_type": "code",
   "execution_count": 17,
   "outputs": [
    {
     "name": "stderr",
     "output_type": "stream",
     "text": [
      "C:\\Users\\naerkond\\AppData\\Local\\Temp\\ipykernel_12680\\3651096126.py:3: DtypeWarning: Columns (8) have mixed types. Specify dtype option on import or set low_memory=False.\n",
      "  dfs = [pd.read_csv(f, sep=\",\", header=0) for f in folder]\n"
     ]
    },
    {
     "name": "stdout",
     "output_type": "stream",
     "text": [
      "(186958, 22)\n"
     ]
    },
    {
     "data": {
      "text/plain": "   APP_ID         P8N  PARTNER_P8N                   STREET_NAME  \\\n0  100000  39916021.0   65771788.0      8191 Blankenship Gateway   \n1  100001  28596991.0   25829667.0  4163 Werner Meadow Suite 321   \n2  100002  65751811.0   63839036.0             849 Timothy Vista   \n3  100003  43012353.0   73277757.0         8492 Odonnell Squares   \n4  100004  34120896.0   72359770.0   625 Arthur Forest Suite 533   \n\n  MUNICIPALITY_NAME POSTAL_CODE  PROVINCE__ID  CUMUL_PAY  \\\n0          COURTICE      L1E0J2           6.0        800   \n1            SURREY      V3W9W5          10.0       1500   \n2         VANCOUVER      V5Z1Y2          10.0       1500   \n3           MARKHAM      L3R8A5           6.0        800   \n4          RICHMOND      V7A3Y7          10.0        800   \n\n   FINANCIAL_INSTITUTION_NUMBER  TRANSIT_NUMBER  ...  DATE_BIRTH_2  \\\n0                           925    6.709730e+11  ...           NaN   \n1                           284    7.343455e+11  ...    2022-06-10   \n2                           248    1.454532e+11  ...    2013-06-19   \n3                           499    7.194849e+11  ...           NaN   \n4                           248    2.990500e+11  ...           NaN   \n\n  DATE_BIRTH_3 DATE_BIRTH_4 DATE_BIRTH_5 DATE_BIRTH_6 DATE_BIRTH_7  \\\n0          NaN          NaN          NaN          NaN          NaN   \n1          NaN          NaN          NaN          NaN          NaN   \n2          NaN          NaN          NaN          NaN          NaN   \n3          NaN          NaN          NaN          NaN          NaN   \n4          NaN          NaN          NaN          NaN          NaN   \n\n  DATE_BIRTH_8  DATE_BIRTH_9  employment_income_1  employment_income_2  \n0          NaN           NaN          1176.136251           416.158132  \n1          NaN           NaN         21058.120853         13290.879147  \n2          NaN           NaN          7423.732510           986.966806  \n3          NaN           NaN         31129.608140             0.000000  \n4          NaN           NaN         12181.918095          1363.765599  \n\n[5 rows x 22 columns]",
      "text/html": "<div>\n<style scoped>\n    .dataframe tbody tr th:only-of-type {\n        vertical-align: middle;\n    }\n\n    .dataframe tbody tr th {\n        vertical-align: top;\n    }\n\n    .dataframe thead th {\n        text-align: right;\n    }\n</style>\n<table border=\"1\" class=\"dataframe\">\n  <thead>\n    <tr style=\"text-align: right;\">\n      <th></th>\n      <th>APP_ID</th>\n      <th>P8N</th>\n      <th>PARTNER_P8N</th>\n      <th>STREET_NAME</th>\n      <th>MUNICIPALITY_NAME</th>\n      <th>POSTAL_CODE</th>\n      <th>PROVINCE__ID</th>\n      <th>CUMUL_PAY</th>\n      <th>FINANCIAL_INSTITUTION_NUMBER</th>\n      <th>TRANSIT_NUMBER</th>\n      <th>...</th>\n      <th>DATE_BIRTH_2</th>\n      <th>DATE_BIRTH_3</th>\n      <th>DATE_BIRTH_4</th>\n      <th>DATE_BIRTH_5</th>\n      <th>DATE_BIRTH_6</th>\n      <th>DATE_BIRTH_7</th>\n      <th>DATE_BIRTH_8</th>\n      <th>DATE_BIRTH_9</th>\n      <th>employment_income_1</th>\n      <th>employment_income_2</th>\n    </tr>\n  </thead>\n  <tbody>\n    <tr>\n      <th>0</th>\n      <td>100000</td>\n      <td>39916021.0</td>\n      <td>65771788.0</td>\n      <td>8191 Blankenship Gateway</td>\n      <td>COURTICE</td>\n      <td>L1E0J2</td>\n      <td>6.0</td>\n      <td>800</td>\n      <td>925</td>\n      <td>6.709730e+11</td>\n      <td>...</td>\n      <td>NaN</td>\n      <td>NaN</td>\n      <td>NaN</td>\n      <td>NaN</td>\n      <td>NaN</td>\n      <td>NaN</td>\n      <td>NaN</td>\n      <td>NaN</td>\n      <td>1176.136251</td>\n      <td>416.158132</td>\n    </tr>\n    <tr>\n      <th>1</th>\n      <td>100001</td>\n      <td>28596991.0</td>\n      <td>25829667.0</td>\n      <td>4163 Werner Meadow Suite 321</td>\n      <td>SURREY</td>\n      <td>V3W9W5</td>\n      <td>10.0</td>\n      <td>1500</td>\n      <td>284</td>\n      <td>7.343455e+11</td>\n      <td>...</td>\n      <td>2022-06-10</td>\n      <td>NaN</td>\n      <td>NaN</td>\n      <td>NaN</td>\n      <td>NaN</td>\n      <td>NaN</td>\n      <td>NaN</td>\n      <td>NaN</td>\n      <td>21058.120853</td>\n      <td>13290.879147</td>\n    </tr>\n    <tr>\n      <th>2</th>\n      <td>100002</td>\n      <td>65751811.0</td>\n      <td>63839036.0</td>\n      <td>849 Timothy Vista</td>\n      <td>VANCOUVER</td>\n      <td>V5Z1Y2</td>\n      <td>10.0</td>\n      <td>1500</td>\n      <td>248</td>\n      <td>1.454532e+11</td>\n      <td>...</td>\n      <td>2013-06-19</td>\n      <td>NaN</td>\n      <td>NaN</td>\n      <td>NaN</td>\n      <td>NaN</td>\n      <td>NaN</td>\n      <td>NaN</td>\n      <td>NaN</td>\n      <td>7423.732510</td>\n      <td>986.966806</td>\n    </tr>\n    <tr>\n      <th>3</th>\n      <td>100003</td>\n      <td>43012353.0</td>\n      <td>73277757.0</td>\n      <td>8492 Odonnell Squares</td>\n      <td>MARKHAM</td>\n      <td>L3R8A5</td>\n      <td>6.0</td>\n      <td>800</td>\n      <td>499</td>\n      <td>7.194849e+11</td>\n      <td>...</td>\n      <td>NaN</td>\n      <td>NaN</td>\n      <td>NaN</td>\n      <td>NaN</td>\n      <td>NaN</td>\n      <td>NaN</td>\n      <td>NaN</td>\n      <td>NaN</td>\n      <td>31129.608140</td>\n      <td>0.000000</td>\n    </tr>\n    <tr>\n      <th>4</th>\n      <td>100004</td>\n      <td>34120896.0</td>\n      <td>72359770.0</td>\n      <td>625 Arthur Forest Suite 533</td>\n      <td>RICHMOND</td>\n      <td>V7A3Y7</td>\n      <td>10.0</td>\n      <td>800</td>\n      <td>248</td>\n      <td>2.990500e+11</td>\n      <td>...</td>\n      <td>NaN</td>\n      <td>NaN</td>\n      <td>NaN</td>\n      <td>NaN</td>\n      <td>NaN</td>\n      <td>NaN</td>\n      <td>NaN</td>\n      <td>NaN</td>\n      <td>12181.918095</td>\n      <td>1363.765599</td>\n    </tr>\n  </tbody>\n</table>\n<p>5 rows × 22 columns</p>\n</div>"
     },
     "execution_count": 17,
     "metadata": {},
     "output_type": "execute_result"
    }
   ],
   "source": [
    "file = read_files()\n",
    "\n",
    "print(file.shape)\n",
    "file.head()"
   ],
   "metadata": {
    "collapsed": false,
    "pycharm": {
     "name": "#%%\n"
    }
   }
  },
  {
   "cell_type": "markdown",
   "source": [
    "# Data Cleaning"
   ],
   "metadata": {
    "collapsed": false,
    "pycharm": {
     "name": "#%% md\n"
    }
   }
  },
  {
   "cell_type": "code",
   "execution_count": 18,
   "outputs": [
    {
     "name": "stdout",
     "output_type": "stream",
     "text": [
      "<class 'pandas.core.frame.DataFrame'>\n",
      "Int64Index: 186958 entries, 0 to 186957\n",
      "Data columns (total 22 columns):\n",
      " #   Column                        Non-Null Count   Dtype  \n",
      "---  ------                        --------------   -----  \n",
      " 0   APP_ID                        186958 non-null  int64  \n",
      " 1   P8N                           186921 non-null  float64\n",
      " 2   PARTNER_P8N                   158996 non-null  float64\n",
      " 3   STREET_NAME                   186958 non-null  object \n",
      " 4   MUNICIPALITY_NAME             186958 non-null  object \n",
      " 5   POSTAL_CODE                   186844 non-null  object \n",
      " 6   PROVINCE__ID                  186844 non-null  float64\n",
      " 7   CUMUL_PAY                     186958 non-null  int64  \n",
      " 8   FINANCIAL_INSTITUTION_NUMBER  186958 non-null  int64  \n",
      " 9   TRANSIT_NUMBER                186958 non-null  float64\n",
      " 10  ACCOUNT_NUMBER                186958 non-null  float64\n",
      " 11  DATE_BIRTH_1                  186958 non-null  object \n",
      " 12  DATE_BIRTH_2                  38830 non-null   object \n",
      " 13  DATE_BIRTH_3                  8206 non-null    object \n",
      " 14  DATE_BIRTH_4                  2467 non-null    object \n",
      " 15  DATE_BIRTH_5                  523 non-null     object \n",
      " 16  DATE_BIRTH_6                  3 non-null       object \n",
      " 17  DATE_BIRTH_7                  0 non-null       float64\n",
      " 18  DATE_BIRTH_8                  0 non-null       float64\n",
      " 19  DATE_BIRTH_9                  0 non-null       float64\n",
      " 20  employment_income_1           186958 non-null  float64\n",
      " 21  employment_income_2           186958 non-null  float64\n",
      "dtypes: float64(10), int64(3), object(9)\n",
      "memory usage: 32.8+ MB\n"
     ]
    }
   ],
   "source": [
    "file.info()"
   ],
   "metadata": {
    "collapsed": false,
    "pycharm": {
     "name": "#%%\n"
    }
   }
  },
  {
   "cell_type": "code",
   "execution_count": 19,
   "outputs": [
    {
     "data": {
      "text/plain": "APP_ID                               0\nP8N                                 37\nPARTNER_P8N                      27962\nSTREET_NAME                          0\nMUNICIPALITY_NAME                    0\nPOSTAL_CODE                        114\nPROVINCE__ID                       114\nCUMUL_PAY                            0\nFINANCIAL_INSTITUTION_NUMBER         0\nTRANSIT_NUMBER                       0\nACCOUNT_NUMBER                       0\nDATE_BIRTH_1                         0\nDATE_BIRTH_2                    148128\nDATE_BIRTH_3                    178752\nDATE_BIRTH_4                    184491\nDATE_BIRTH_5                    186435\nDATE_BIRTH_6                    186955\nDATE_BIRTH_7                    186958\nDATE_BIRTH_8                    186958\nDATE_BIRTH_9                    186958\nemployment_income_1                  0\nemployment_income_2                  0\ndtype: int64"
     },
     "execution_count": 19,
     "metadata": {},
     "output_type": "execute_result"
    }
   ],
   "source": [
    "# check for null\n",
    "file.isnull().sum()"
   ],
   "metadata": {
    "collapsed": false,
    "pycharm": {
     "name": "#%%\n"
    }
   }
  },
  {
   "cell_type": "code",
   "execution_count": null,
   "outputs": [],
   "source": [
    "# draft: make all null = 0 "
   ],
   "metadata": {
    "collapsed": false,
    "pycharm": {
     "name": "#%%\n"
    }
   }
  }
 ],
 "metadata": {
  "kernelspec": {
   "display_name": "Python 3",
   "language": "python",
   "name": "python3"
  },
  "language_info": {
   "codemirror_mode": {
    "name": "ipython",
    "version": 2
   },
   "file_extension": ".py",
   "mimetype": "text/x-python",
   "name": "python",
   "nbconvert_exporter": "python",
   "pygments_lexer": "ipython2",
   "version": "2.7.6"
  }
 },
 "nbformat": 4,
 "nbformat_minor": 0
}